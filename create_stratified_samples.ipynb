{
 "cells": [
  {
   "cell_type": "code",
   "execution_count": 110,
   "metadata": {},
   "outputs": [],
   "source": [
    "import pandas as pd\n",
    "import geopandas as gpd\n",
    "import rasterio\n",
    "from rasterio import features\n",
    "import os\n",
    "import shapely\n",
    "import matplotlib.pyplot as plt\n",
    "from shapely.geometry import Point\n",
    "import random"
   ]
  },
  {
   "cell_type": "code",
   "execution_count": 231,
   "metadata": {},
   "outputs": [
    {
     "data": {
      "text/plain": [
       "CRS.from_epsg(32632)"
      ]
     },
     "execution_count": 231,
     "metadata": {},
     "output_type": "execute_result"
    }
   ],
   "source": [
    "\n",
    "input_file = \"data/sonneberg_startlastchangeperiod.tif\"\n",
    "absolute_path = os.path.abspath(input_file)\n",
    "src = rasterio.open(path)\n",
    "src.crs"
   ]
  },
  {
   "cell_type": "code",
   "execution_count": 230,
   "metadata": {},
   "outputs": [],
   "source": [
    "# reproject file if necessary\n",
    "if src.crs != 32632:\n",
    "    absolute_path = absolute_path[:absolute_path.rfind(\"/\")+1] # path of file\n",
    "    in_file_name = absolute_path[absolute_path.rfind('/')+1:]\n",
    "    out_file_name = absolute_path[:absolute_path.rfind(\".\")]+\"_32632.tif\"\n",
    "    command = \"gdalwarp -t_srs EPSG:32632 \" + absolute_path+in_file_name + \" \" + out_file_name"
   ]
  },
  {
   "cell_type": "code",
   "execution_count": 73,
   "metadata": {},
   "outputs": [],
   "source": [
    "def to_vector(path):\n",
    "    # read raster_path\n",
    "    raster_path = rasterio.open(path)\n",
    "    raster_array = raster_path.read(1)\n",
    "    \n",
    "    # transform to polygons\n",
    "    tmp_value = []\n",
    "    tmp_shape = []\n",
    "    tmp_geom = []\n",
    "    for geom, value in features.shapes(raster_array, transform=raster_path.transform):\n",
    "        #print(value)\n",
    "        tmp_value.append(value)\n",
    "        #pprint.pprint(geom)\n",
    "        tmp_shape.append(geom[\"type\"])\n",
    "        tmp_geom.append(geom[\"coordinates\"])\n",
    "    \n",
    "    # turn returned dictionary into WKT string\n",
    "    tmp_geom2 = []\n",
    "    for a,b in zip(tmp_shape,tmp_geom):\n",
    "        tmp_str = str(b[0])\n",
    "        tmp_str = tmp_str.replace(\"), \",\",\")\n",
    "        tmp_str = tmp_str.replace(\", \",\" \")\n",
    "        tmp_str = tmp_str.replace(\"[\",\"\")\n",
    "        tmp_str = tmp_str.replace(\"]\",\"\")\n",
    "        tmp_str = tmp_str.replace(\"(\",\"\")\n",
    "        tmp_str = tmp_str.replace(\")\",\"\")\n",
    "        tmp_str = (str(a + \" \" + \"((\" + tmp_str + \"))\"))\n",
    "        tmp_str = tmp_str.upper()\n",
    "        tmp_geom2.append(shapely.wkt.loads(tmp_str))\n",
    "        \n",
    "    gdf = gpd.GeoDataFrame({'value': tmp_value, 'geometry': tmp_geom2 },crs=raster_path.crs)\n",
    "    gdf = gdf[gdf.value != 0.0] # delete 0 values\n",
    "    return(gdf) "
   ]
  },
  {
   "cell_type": "code",
   "execution_count": 75,
   "metadata": {},
   "outputs": [],
   "source": [
    "# create vector geodataframe from image\n",
    "gdf = to_vector(path)"
   ]
  },
  {
   "cell_type": "code",
   "execution_count": 95,
   "metadata": {},
   "outputs": [
    {
     "name": "stdout",
     "output_type": "stream",
     "text": [
      "unique values:  [31. 34. 18. 38. 40. 35. 32. 26. 33. 37. 39. 30. 28. 24. 36. 27. 20. 22.\n",
      " 23. 21. 29.  9. 10. 14. 19. 16. 13. 15. 25.  7. 12. 11.  2. 17.  3.  6.\n",
      "  8.  5.  4.  1.]\n"
     ]
    },
    {
     "data": {
      "text/html": [
       "<div>\n",
       "<style scoped>\n",
       "    .dataframe tbody tr th:only-of-type {\n",
       "        vertical-align: middle;\n",
       "    }\n",
       "\n",
       "    .dataframe tbody tr th {\n",
       "        vertical-align: top;\n",
       "    }\n",
       "\n",
       "    .dataframe thead th {\n",
       "        text-align: right;\n",
       "    }\n",
       "</style>\n",
       "<table border=\"1\" class=\"dataframe\">\n",
       "  <thead>\n",
       "    <tr style=\"text-align: right;\">\n",
       "      <th></th>\n",
       "      <th>value</th>\n",
       "      <th>geometry</th>\n",
       "      <th>area</th>\n",
       "    </tr>\n",
       "  </thead>\n",
       "  <tbody>\n",
       "    <tr>\n",
       "      <th>0</th>\n",
       "      <td>31.0</td>\n",
       "      <td>POLYGON ((661585.568 5601638.952, 661585.568 5...</td>\n",
       "      <td>3444.402602</td>\n",
       "    </tr>\n",
       "    <tr>\n",
       "      <th>1</th>\n",
       "      <td>34.0</td>\n",
       "      <td>POLYGON ((661657.447 5601638.952, 661657.447 5...</td>\n",
       "      <td>1148.134201</td>\n",
       "    </tr>\n",
       "    <tr>\n",
       "      <th>2</th>\n",
       "      <td>18.0</td>\n",
       "      <td>POLYGON ((661681.406 5601638.952, 661681.406 5...</td>\n",
       "      <td>15499.811709</td>\n",
       "    </tr>\n",
       "    <tr>\n",
       "      <th>3</th>\n",
       "      <td>38.0</td>\n",
       "      <td>POLYGON ((661130.333 5601614.992, 661130.333 5...</td>\n",
       "      <td>9185.073606</td>\n",
       "    </tr>\n",
       "    <tr>\n",
       "      <th>4</th>\n",
       "      <td>40.0</td>\n",
       "      <td>POLYGON ((661250.132 5601614.992, 661250.132 5...</td>\n",
       "      <td>574.067100</td>\n",
       "    </tr>\n",
       "    <tr>\n",
       "      <th>...</th>\n",
       "      <td>...</td>\n",
       "      <td>...</td>\n",
       "      <td>...</td>\n",
       "    </tr>\n",
       "    <tr>\n",
       "      <th>68425</th>\n",
       "      <td>38.0</td>\n",
       "      <td>POLYGON ((640189.558 5570275.708, 640189.558 5...</td>\n",
       "      <td>574.067100</td>\n",
       "    </tr>\n",
       "    <tr>\n",
       "      <th>68426</th>\n",
       "      <td>37.0</td>\n",
       "      <td>POLYGON ((638991.573 5570251.748, 638991.573 5...</td>\n",
       "      <td>574.067100</td>\n",
       "    </tr>\n",
       "    <tr>\n",
       "      <th>68427</th>\n",
       "      <td>35.0</td>\n",
       "      <td>POLYGON ((639015.533 5570251.748, 639015.533 5...</td>\n",
       "      <td>1148.134201</td>\n",
       "    </tr>\n",
       "    <tr>\n",
       "      <th>68428</th>\n",
       "      <td>40.0</td>\n",
       "      <td>POLYGON ((639111.372 5570251.748, 639111.372 5...</td>\n",
       "      <td>574.067100</td>\n",
       "    </tr>\n",
       "    <tr>\n",
       "      <th>68429</th>\n",
       "      <td>40.0</td>\n",
       "      <td>POLYGON ((639327.009 5570251.748, 639327.009 5...</td>\n",
       "      <td>574.067100</td>\n",
       "    </tr>\n",
       "  </tbody>\n",
       "</table>\n",
       "<p>67108 rows × 3 columns</p>\n",
       "</div>"
      ],
      "text/plain": [
       "       value                                           geometry          area\n",
       "0       31.0  POLYGON ((661585.568 5601638.952, 661585.568 5...   3444.402602\n",
       "1       34.0  POLYGON ((661657.447 5601638.952, 661657.447 5...   1148.134201\n",
       "2       18.0  POLYGON ((661681.406 5601638.952, 661681.406 5...  15499.811709\n",
       "3       38.0  POLYGON ((661130.333 5601614.992, 661130.333 5...   9185.073606\n",
       "4       40.0  POLYGON ((661250.132 5601614.992, 661250.132 5...    574.067100\n",
       "...      ...                                                ...           ...\n",
       "68425   38.0  POLYGON ((640189.558 5570275.708, 640189.558 5...    574.067100\n",
       "68426   37.0  POLYGON ((638991.573 5570251.748, 638991.573 5...    574.067100\n",
       "68427   35.0  POLYGON ((639015.533 5570251.748, 639015.533 5...   1148.134201\n",
       "68428   40.0  POLYGON ((639111.372 5570251.748, 639111.372 5...    574.067100\n",
       "68429   40.0  POLYGON ((639327.009 5570251.748, 639327.009 5...    574.067100\n",
       "\n",
       "[67108 rows x 3 columns]"
      ]
     },
     "execution_count": 95,
     "metadata": {},
     "output_type": "execute_result"
    }
   ],
   "source": [
    "# append area of geometry to each row\n",
    "gdf[\"area\"] = gdf[\"geometry\"].area\n",
    "# extracting unique values\n",
    "values = gdf[\"value\"].unique()\n",
    "print(\"unique values: \",values)\n",
    "gdf"
   ]
  },
  {
   "cell_type": "code",
   "execution_count": 111,
   "metadata": {},
   "outputs": [],
   "source": [
    "# create dict of absolute area by value\n",
    "area_dict = {}\n",
    "for i in values:\n",
    "    # append sum of area for each vector value\n",
    "    area_dict[i] = gdf[gdf.value==i].sum()[\"area\"]"
   ]
  },
  {
   "cell_type": "code",
   "execution_count": 138,
   "metadata": {},
   "outputs": [],
   "source": [
    "# create dict of area percentages by value\n",
    "total_area = gdf[\"area\"].sum()\n",
    "perc_dict = {}\n",
    "for i in values:\n",
    "    part = area_dict[i]\n",
    "    perc_dict[i] = 100 * float(part)/float(total_area)"
   ]
  },
  {
   "cell_type": "code",
   "execution_count": 139,
   "metadata": {},
   "outputs": [],
   "source": [
    "# how much of total area does each polygon occupy\n",
    "gdf[\"area_perc\"] = 100 * gdf[\"area\"] / float(total_area)"
   ]
  },
  {
   "cell_type": "code",
   "execution_count": 141,
   "metadata": {},
   "outputs": [],
   "source": [
    "# function to randomly put set number of points in polygon\n",
    "def random_points_in_polygon(number, polygon):\n",
    "    points = []\n",
    "    min_x, min_y, max_x, max_y = polygon.bounds\n",
    "    i= 0\n",
    "    while i < number:\n",
    "        point = Point(random.uniform(min_x, max_x), random.uniform(min_y, max_y))\n",
    "        if polygon.contains(point):\n",
    "            points.append(point)\n",
    "            i += 1\n",
    "    return points  # returns list of shapely point"
   ]
  },
  {
   "cell_type": "code",
   "execution_count": 215,
   "metadata": {},
   "outputs": [],
   "source": [
    "# define total no of points to be created\n",
    "num_points = 1000\n",
    "gdf_points = gpd.GeoDataFrame({'value': [], 'geometry': [] },crs=\"EPSG:32632\")"
   ]
  },
  {
   "cell_type": "code",
   "execution_count": 219,
   "metadata": {},
   "outputs": [],
   "source": [
    "# get absolute no. of points from avg. no of points per polygon\n",
    "def no_points_from_avg(num):\n",
    "    full_points = int(num)\n",
    "    likelihood_next_point = num-full_points\n",
    "    if likelihood_next_point > 0.0:\n",
    "        rand_float = random.random()\n",
    "        if rand_float<likelihood_next_point:\n",
    "            full_points = full_points+1\n",
    "    return full_points\n",
    "\n",
    "\n",
    "for index, row in gdf.iterrows():\n",
    "    current_value = row[\"value\"] # get current value\n",
    "    current_polygon = row[\"geometry\"] # get current polygon\n",
    "    current_area_perc = row[\"area_perc\"] # get current polygon total area percentage\n",
    "    value_perc_of_points = perc_dict[current_value] # get total point percentage for current value\n",
    "    no_of_points_for_current_polygon = num_points/100.0 * current_area_perc # calculate no. of points that should go in this polygon on average\n",
    "    \n",
    "    # get no of points weighted for this polygon size\n",
    "    current_no_of_points = no_points_from_avg(no_of_points_for_current_polygon)\n",
    "    \n",
    "    # create list holding values in order to have value value of poit in df\n",
    "    value_ls = []\n",
    "    for i in range(0,current_no_of_points):\n",
    "        value_ls.append(current_value)\n",
    "    \n",
    "    # if point applicable for this polygon\n",
    "    if current_no_of_points != 0:\n",
    "        # create specified number of random points in polygon\n",
    "        gdf_temp = gpd.GeoDataFrame({'value': value_ls, 'geometry': random_points_in_polygon(current_no_of_points, current_polygon) },crs=\"EPSG:32632\")\n",
    "        # append points to global geodataframe\n",
    "        gdf_points = gdf_points.append(gdf_temp,ignore_index=True)"
   ]
  },
  {
   "cell_type": "code",
   "execution_count": 224,
   "metadata": {},
   "outputs": [],
   "source": [
    "# append coordinates to gdf\n",
    "gdf_points['lon'] = round(gdf_points.geometry.x,3)\n",
    "gdf_points['lat'] = round(gdf_points.geometry.y,3)"
   ]
  },
  {
   "cell_type": "code",
   "execution_count": 233,
   "metadata": {},
   "outputs": [],
   "source": [
    "gdf_points.to_csv(\"sonneberg_startlastchangeperiod.csv\")"
   ]
  },
  {
   "cell_type": "code",
   "execution_count": null,
   "metadata": {},
   "outputs": [],
   "source": []
  },
  {
   "cell_type": "code",
   "execution_count": null,
   "metadata": {},
   "outputs": [],
   "source": []
  },
  {
   "cell_type": "code",
   "execution_count": null,
   "metadata": {},
   "outputs": [],
   "source": []
  }
 ],
 "metadata": {
  "kernelspec": {
   "display_name": "Python 3",
   "language": "python",
   "name": "python3"
  },
  "language_info": {
   "codemirror_mode": {
    "name": "ipython",
    "version": 3
   },
   "file_extension": ".py",
   "mimetype": "text/x-python",
   "name": "python",
   "nbconvert_exporter": "python",
   "pygments_lexer": "ipython3",
   "version": "3.7.6"
  }
 },
 "nbformat": 4,
 "nbformat_minor": 4
}
